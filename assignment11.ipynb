{
 "cells": [
  {
   "cell_type": "markdown",
   "id": "df0d234f-1e1a-4495-8208-e177e7f527aa",
   "metadata": {},
   "source": [
    "Complete the exercises below For **Assignment #11**."
   ]
  },
  {
   "cell_type": "markdown",
   "id": "ac477582-ad99-429a-9649-262d62c35eb8",
   "metadata": {},
   "source": [
    "For this assignment we'll use the [California Housing Data](https://inria.github.io/scikit-learn-mooc/python_scripts/datasets_california_housing.html).\n",
    "\n",
    "This data is available in the [Scikit-Learn](https://scikit-learn.org/stable/index.html) Python module.\n",
    "\n",
    "To retrieve the data,\n",
    "1. open a new Python notebook with the `data730` kernel, and,\n",
    "2. run the following code.\n",
    "\n",
    "```python\n",
    "from sklearn.datasets import fetch_california_housing\n",
    "\n",
    "california_housing = fetch_california_housing(as_frame=True)\n",
    "\n",
    "(\n",
    "    california_housing.data\n",
    "    .assign(MedianHouseValue=california_housing.target)\n",
    "    .to_csv('california-housing.csv', index=False)\n",
    ")\n",
    "```\n",
    "\n",
    "This will produce a new file called `california-housing.csv` that we'll import in this notebook.\n",
    "\n",
    "Back in the Python notebook, you can use the following snippet to get a description of the dataset.\n",
    "\n",
    "```python\n",
    "print(california_housing.DESCR)\n",
    "```\n"
   ]
  },
  {
   "cell_type": "markdown",
   "id": "6c0e6b0b-9a15-4ce8-b8f3-d4e23e541d4d",
   "metadata": {},
   "source": [
    "Load the `tidymodels` package."
   ]
  },
  {
   "cell_type": "code",
   "execution_count": 6,
   "id": "4e33ab9e-c7e8-49e1-999d-0d02ca595b00",
   "metadata": {
    "tags": []
   },
   "outputs": [],
   "source": [
    "library(tidymodels)"
   ]
  },
  {
   "cell_type": "markdown",
   "id": "7cfc3389-32a4-4c59-862d-462204400235",
   "metadata": {},
   "source": [
    "Run the following cell to read in our data."
   ]
  },
  {
   "cell_type": "code",
   "execution_count": 7,
   "id": "aad1c14f-9108-4e9d-ac5f-119992990911",
   "metadata": {
    "tags": []
   },
   "outputs": [
    {
     "data": {
      "text/html": [
       "<table class=\"dataframe\">\n",
       "<caption>A tibble: 6 × 9</caption>\n",
       "<thead>\n",
       "\t<tr><th scope=col>MedInc</th><th scope=col>HouseAge</th><th scope=col>AveRooms</th><th scope=col>AveBedrms</th><th scope=col>Population</th><th scope=col>AveOccup</th><th scope=col>Latitude</th><th scope=col>Longitude</th><th scope=col>MedianHouseValue</th></tr>\n",
       "\t<tr><th scope=col>&lt;dbl&gt;</th><th scope=col>&lt;dbl&gt;</th><th scope=col>&lt;dbl&gt;</th><th scope=col>&lt;dbl&gt;</th><th scope=col>&lt;dbl&gt;</th><th scope=col>&lt;dbl&gt;</th><th scope=col>&lt;dbl&gt;</th><th scope=col>&lt;dbl&gt;</th><th scope=col>&lt;dbl&gt;</th></tr>\n",
       "</thead>\n",
       "<tbody>\n",
       "\t<tr><td>8.3252</td><td>41</td><td>6.984127</td><td>1.0238095</td><td> 322</td><td>2.555556</td><td>37.88</td><td>-122.23</td><td>4.526</td></tr>\n",
       "\t<tr><td>8.3014</td><td>21</td><td>6.238137</td><td>0.9718805</td><td>2401</td><td>2.109842</td><td>37.86</td><td>-122.22</td><td>3.585</td></tr>\n",
       "\t<tr><td>7.2574</td><td>52</td><td>8.288136</td><td>1.0734463</td><td> 496</td><td>2.802260</td><td>37.85</td><td>-122.24</td><td>3.521</td></tr>\n",
       "\t<tr><td>5.6431</td><td>52</td><td>5.817352</td><td>1.0730594</td><td> 558</td><td>2.547945</td><td>37.85</td><td>-122.25</td><td>3.413</td></tr>\n",
       "\t<tr><td>3.8462</td><td>52</td><td>6.281853</td><td>1.0810811</td><td> 565</td><td>2.181467</td><td>37.85</td><td>-122.25</td><td>3.422</td></tr>\n",
       "\t<tr><td>4.0368</td><td>52</td><td>4.761658</td><td>1.1036269</td><td> 413</td><td>2.139896</td><td>37.85</td><td>-122.25</td><td>2.697</td></tr>\n",
       "</tbody>\n",
       "</table>\n"
      ],
      "text/latex": [
       "A tibble: 6 × 9\n",
       "\\begin{tabular}{lllllllll}\n",
       " MedInc & HouseAge & AveRooms & AveBedrms & Population & AveOccup & Latitude & Longitude & MedianHouseValue\\\\\n",
       " <dbl> & <dbl> & <dbl> & <dbl> & <dbl> & <dbl> & <dbl> & <dbl> & <dbl>\\\\\n",
       "\\hline\n",
       "\t 8.3252 & 41 & 6.984127 & 1.0238095 &  322 & 2.555556 & 37.88 & -122.23 & 4.526\\\\\n",
       "\t 8.3014 & 21 & 6.238137 & 0.9718805 & 2401 & 2.109842 & 37.86 & -122.22 & 3.585\\\\\n",
       "\t 7.2574 & 52 & 8.288136 & 1.0734463 &  496 & 2.802260 & 37.85 & -122.24 & 3.521\\\\\n",
       "\t 5.6431 & 52 & 5.817352 & 1.0730594 &  558 & 2.547945 & 37.85 & -122.25 & 3.413\\\\\n",
       "\t 3.8462 & 52 & 6.281853 & 1.0810811 &  565 & 2.181467 & 37.85 & -122.25 & 3.422\\\\\n",
       "\t 4.0368 & 52 & 4.761658 & 1.1036269 &  413 & 2.139896 & 37.85 & -122.25 & 2.697\\\\\n",
       "\\end{tabular}\n"
      ],
      "text/markdown": [
       "\n",
       "A tibble: 6 × 9\n",
       "\n",
       "| MedInc &lt;dbl&gt; | HouseAge &lt;dbl&gt; | AveRooms &lt;dbl&gt; | AveBedrms &lt;dbl&gt; | Population &lt;dbl&gt; | AveOccup &lt;dbl&gt; | Latitude &lt;dbl&gt; | Longitude &lt;dbl&gt; | MedianHouseValue &lt;dbl&gt; |\n",
       "|---|---|---|---|---|---|---|---|---|\n",
       "| 8.3252 | 41 | 6.984127 | 1.0238095 |  322 | 2.555556 | 37.88 | -122.23 | 4.526 |\n",
       "| 8.3014 | 21 | 6.238137 | 0.9718805 | 2401 | 2.109842 | 37.86 | -122.22 | 3.585 |\n",
       "| 7.2574 | 52 | 8.288136 | 1.0734463 |  496 | 2.802260 | 37.85 | -122.24 | 3.521 |\n",
       "| 5.6431 | 52 | 5.817352 | 1.0730594 |  558 | 2.547945 | 37.85 | -122.25 | 3.413 |\n",
       "| 3.8462 | 52 | 6.281853 | 1.0810811 |  565 | 2.181467 | 37.85 | -122.25 | 3.422 |\n",
       "| 4.0368 | 52 | 4.761658 | 1.1036269 |  413 | 2.139896 | 37.85 | -122.25 | 2.697 |\n",
       "\n"
      ],
      "text/plain": [
       "  MedInc HouseAge AveRooms AveBedrms Population AveOccup Latitude Longitude\n",
       "1 8.3252 41       6.984127 1.0238095  322       2.555556 37.88    -122.23  \n",
       "2 8.3014 21       6.238137 0.9718805 2401       2.109842 37.86    -122.22  \n",
       "3 7.2574 52       8.288136 1.0734463  496       2.802260 37.85    -122.24  \n",
       "4 5.6431 52       5.817352 1.0730594  558       2.547945 37.85    -122.25  \n",
       "5 3.8462 52       6.281853 1.0810811  565       2.181467 37.85    -122.25  \n",
       "6 4.0368 52       4.761658 1.1036269  413       2.139896 37.85    -122.25  \n",
       "  MedianHouseValue\n",
       "1 4.526           \n",
       "2 3.585           \n",
       "3 3.521           \n",
       "4 3.413           \n",
       "5 3.422           \n",
       "6 2.697           "
      ]
     },
     "metadata": {},
     "output_type": "display_data"
    }
   ],
   "source": [
    "housing = readr::read_csv('california-housing.csv', col_types = readr::cols())\n",
    "\n",
    "housing |> head()"
   ]
  },
  {
   "cell_type": "markdown",
   "id": "e4963a96-8528-4eb0-8512-d0f792999de0",
   "metadata": {},
   "source": [
    "Let's build a random forest model to predict `MedianHouseValue`.\n",
    "\n",
    "1. Create your model, set the engine to `ranger` with `importance = 'impurity'` and the mode as `regression`.\n",
    "2. Fit the model using `MedianHouseValue` as the response variable and all other columns as predictors."
   ]
  },
  {
   "cell_type": "code",
   "execution_count": 8,
   "id": "5db51c38-89cf-4c98-b08a-ad32ae31c701",
   "metadata": {
    "tags": []
   },
   "outputs": [],
   "source": [
    "mod <- rand_forest(\n",
    "  mode = \"regression\") %>%\n",
    "  set_engine(\"ranger\", importance = \"impurity\")\n",
    "\n",
    "mod_fit <- mod %>%\n",
    "  fit(MedianHouseValue ~ ., data = housing)"
   ]
  },
  {
   "cell_type": "markdown",
   "id": "7b7bbc21-d544-4fb9-851a-f66bae8058c9",
   "metadata": {},
   "source": [
    "❓ What is the OOB error for this model?\n",
    "\n",
    "**Answer:**"
   ]
  },
  {
   "cell_type": "code",
   "execution_count": 9,
   "id": "c3eb7159-539f-491d-82e1-b74802b514cb",
   "metadata": {},
   "outputs": [
    {
     "data": {
      "text/html": [
       "0.232469171817272"
      ],
      "text/latex": [
       "0.232469171817272"
      ],
      "text/markdown": [
       "0.232469171817272"
      ],
      "text/plain": [
       "[1] 0.2324692"
      ]
     },
     "metadata": {},
     "output_type": "display_data"
    }
   ],
   "source": [
    "#Extract the fitted ranger model\n",
    "ranger_model <- extract_fit_engine(mod_fit)\n",
    "\n",
    "ranger_model$prediction.error"
   ]
  },
  {
   "cell_type": "markdown",
   "id": "78415419-16ad-45da-a29f-08e9f157c35b",
   "metadata": {},
   "source": [
    "0.232469171817272"
   ]
  },
  {
   "cell_type": "markdown",
   "id": "a142043a-4973-4948-8922-4d91915b00cd",
   "metadata": {},
   "source": [
    "Plot the feature importances using the `vip` package. Remember that you can use the `extract_fit_engine` function to get the `ranger` model object to send to the `vip` function."
   ]
  },
  {
   "cell_type": "code",
   "execution_count": 10,
   "id": "2f1d48f4-b869-4e47-bdc0-2df4b0d65bf0",
   "metadata": {},
   "outputs": [
    {
     "name": "stderr",
     "output_type": "stream",
     "text": [
      "\n",
      "Attaching package: ‘vip’\n",
      "\n",
      "\n",
      "The following object is masked from ‘package:utils’:\n",
      "\n",
      "    vi\n",
      "\n",
      "\n"
     ]
    },
    {
     "data": {
      "image/png": "[encoded data removed]",
      "text/plain": [
       "plot without title"
      ]
     },
     "metadata": {
      "image/png": {
       "height": 500,
       "width": 625
      }
     },
     "output_type": "display_data"
    }
   ],
   "source": [
    "library(vip)\n",
    "\n",
    "ranger_model <- extract_fit_engine(mod_fit)\n",
    "\n",
    "vip(ranger_model)"
   ]
  },
  {
   "cell_type": "markdown",
   "id": "2d25e5c7-b347-487a-bcd0-1f919daeda39",
   "metadata": {},
   "source": [
    "It looks like `Latitude` and `Longitude` are important for predicting home value. Let's explore those variables.\n",
    "\n",
    "Install the `mapdata` package into your `data730` environment.\n",
    "\n",
    "1. Open a Terminal, and,\n",
    "2. Run the following command:\n",
    "\n",
    "```bash\n",
    "conda install -c conda-forge -n data730 r-mapdata\n",
    "```"
   ]
  },
  {
   "cell_type": "markdown",
   "id": "77831dfa-6c6e-4d21-a724-531d10353375",
   "metadata": {},
   "source": [
    "Load the `mapdata` package."
   ]
  },
  {
   "cell_type": "code",
   "execution_count": 13,
   "id": "bca2b508-bc25-484a-913b-40823fddd526",
   "metadata": {},
   "outputs": [],
   "source": [
    "library(mapdata)\n"
   ]
  },
  {
   "cell_type": "markdown",
   "id": "f754f76b-9e28-4916-a793-1cbf5f1d256d",
   "metadata": {},
   "source": [
    "The following code will generate a map of California. Adapt this code to plot `Latitude` and `Longitude` from the `housing` dataset, color points by the `MedianHouseValue`. [Here is an example for reference](https://raw.githubusercontent.com/UNC-DATA-730/a10/main/example.png).\n",
    "\n",
    "\n",
    "```r\n",
    "california = map_data(\"state\") |> filter(region == 'california')\n",
    "\n",
    "ggplot(data = california) + \n",
    "    geom_polygon(aes(x = long, y = lat), fill = \"grey90\", color = \"grey40\") +\n",
    "    coord_quickmap() +\n",
    "    theme_void()\n",
    "```"
   ]
  },
  {
   "cell_type": "code",
   "execution_count": null,
   "id": "7b168325-ad52-4760-8da8-6d75b51a77ae",
   "metadata": {},
   "outputs": [],
   "source": [
    "\n",
    "\n"
   ]
  }
 ],
 "metadata": {
  "kernelspec": {
   "display_name": ".conda-data730:R",
   "language": "R",
   "name": "conda-env-.conda-data730-r"
  },
  "language_info": {
   "codemirror_mode": "r",
   "file_extension": ".r",
   "mimetype": "text/x-r-source",
   "name": "R",
   "pygments_lexer": "r",
   "version": "4.3.3"
  }
 },
 "nbformat": 4,
 "nbformat_minor": 5
}
